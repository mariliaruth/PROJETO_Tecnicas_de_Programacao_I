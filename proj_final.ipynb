{
 "cells": [
  {
   "cell_type": "code",
   "execution_count": 126,
   "metadata": {},
   "outputs": [],
   "source": [
    "# importa módulos\n",
    "import pandas as pd\n",
    "from unidecode import unidecode"
   ]
  },
  {
   "cell_type": "code",
   "execution_count": 127,
   "metadata": {},
   "outputs": [],
   "source": [
    "# lê arquivos\n",
    "escolas = pd.read_csv(\"escolas.csv\")\n",
    "material_didatico = pd.read_csv(\"material_didatico.csv\")\n",
    "subprefeituras = pd.read_csv(\"subprefeituras.csv\")"
   ]
  },
  {
   "cell_type": "code",
   "execution_count": 128,
   "metadata": {},
   "outputs": [
    {
     "name": "stdout",
     "output_type": "stream",
     "text": [
      "<class 'pandas.core.frame.DataFrame'>\n",
      "RangeIndex: 151 entries, 0 to 150\n",
      "Data columns (total 2 columns):\n",
      " #   Column      Non-Null Count  Dtype \n",
      "---  ------      --------------  ----- \n",
      " 0   id          151 non-null    int64 \n",
      " 1   Quantidade  147 non-null    object\n",
      "dtypes: int64(1), object(1)\n",
      "memory usage: 2.5+ KB\n"
     ]
    }
   ],
   "source": [
    "material_didatico.info()"
   ]
  },
  {
   "cell_type": "markdown",
   "metadata": {},
   "source": [
    "a.1) converter tipo coluna de objeto para inteiro\n",
    "    - substituir NaN e None por 0\n",
    "    - substituir '' e ' ' por 0\n",
    "    - substituir 'NaN' por 0\n",
    "    - converter valor numérico do tipo objeto para int (Ex.: '356' para 356)"
   ]
  },
  {
   "cell_type": "markdown",
   "metadata": {},
   "source": [
    "## Tratamento da tabela material_didatico"
   ]
  },
  {
   "cell_type": "code",
   "execution_count": 129,
   "metadata": {},
   "outputs": [],
   "source": [
    "material_didatico_copy_1 = material_didatico.copy()"
   ]
  },
  {
   "cell_type": "code",
   "execution_count": 130,
   "metadata": {},
   "outputs": [],
   "source": [
    "# normalizar nomes das colunas\n",
    "cols = material_didatico_copy_1.columns\n",
    "for col in cols:\n",
    "    material_didatico_copy_1.rename(columns={col: unidecode(col.lower().strip())}, inplace=True)"
   ]
  },
  {
   "cell_type": "code",
   "execution_count": 131,
   "metadata": {},
   "outputs": [],
   "source": [
    "# remove valores nulos\n",
    "material_didatico_copy_2 = material_didatico_copy_1.copy()\n",
    "material_didatico_copy_2['quantidade'].fillna('0', inplace=True)"
   ]
  },
  {
   "cell_type": "code",
   "execution_count": 132,
   "metadata": {},
   "outputs": [],
   "source": [
    "# converter todos os valores da coluna para int\n",
    "material_didatico_copy_2['quantidade'] = material_didatico_copy_2['quantidade'].apply(lambda x: int(x) if x.isdigit() else 0)"
   ]
  },
  {
   "cell_type": "code",
   "execution_count": 133,
   "metadata": {},
   "outputs": [],
   "source": [
    "# # Modo 2\n",
    "# import re\n",
    "\n",
    "# def normaliza_quantidade(valor) -> int:\n",
    "#     if valor:\n",
    "#         normaliza_valor = re.sub(r\"[^\\d: ]\", \"\", valor.strip())\n",
    "#         if normaliza_valor:\n",
    "#             return int(normaliza_valor)\n",
    "#         else:\n",
    "#             return 0\n",
    "#     else:\n",
    "#         return 0\n",
    "    \n",
    "# material_didatico['quantidade'] = material_didatico['quantidade'].apply(lambda x: normaliza_quantidade(x))"
   ]
  },
  {
   "cell_type": "code",
   "execution_count": 134,
   "metadata": {},
   "outputs": [
    {
     "name": "stdout",
     "output_type": "stream",
     "text": [
      "<class 'pandas.core.frame.DataFrame'>\n",
      "RangeIndex: 151 entries, 0 to 150\n",
      "Data columns (total 2 columns):\n",
      " #   Column      Non-Null Count  Dtype\n",
      "---  ------      --------------  -----\n",
      " 0   id          151 non-null    int64\n",
      " 1   quantidade  151 non-null    int64\n",
      "dtypes: int64(2)\n",
      "memory usage: 2.5 KB\n"
     ]
    }
   ],
   "source": [
    "material_didatico_copy_2.info()"
   ]
  },
  {
   "cell_type": "code",
   "execution_count": 178,
   "metadata": {},
   "outputs": [
    {
     "data": {
      "text/html": [
       "<div>\n",
       "<style scoped>\n",
       "    .dataframe tbody tr th:only-of-type {\n",
       "        vertical-align: middle;\n",
       "    }\n",
       "\n",
       "    .dataframe tbody tr th {\n",
       "        vertical-align: top;\n",
       "    }\n",
       "\n",
       "    .dataframe thead th {\n",
       "        text-align: right;\n",
       "    }\n",
       "</style>\n",
       "<table border=\"1\" class=\"dataframe\">\n",
       "  <thead>\n",
       "    <tr style=\"text-align: right;\">\n",
       "      <th></th>\n",
       "      <th>id</th>\n",
       "      <th>quantidade</th>\n",
       "    </tr>\n",
       "  </thead>\n",
       "  <tbody>\n",
       "    <tr>\n",
       "      <th>0</th>\n",
       "      <td>178</td>\n",
       "      <td>20</td>\n",
       "    </tr>\n",
       "    <tr>\n",
       "      <th>1</th>\n",
       "      <td>634</td>\n",
       "      <td>121</td>\n",
       "    </tr>\n",
       "    <tr>\n",
       "      <th>2</th>\n",
       "      <td>483</td>\n",
       "      <td>220</td>\n",
       "    </tr>\n",
       "    <tr>\n",
       "      <th>3</th>\n",
       "      <td>476</td>\n",
       "      <td>190</td>\n",
       "    </tr>\n",
       "    <tr>\n",
       "      <th>4</th>\n",
       "      <td>132</td>\n",
       "      <td>67</td>\n",
       "    </tr>\n",
       "    <tr>\n",
       "      <th>...</th>\n",
       "      <td>...</td>\n",
       "      <td>...</td>\n",
       "    </tr>\n",
       "    <tr>\n",
       "      <th>146</th>\n",
       "      <td>474</td>\n",
       "      <td>320</td>\n",
       "    </tr>\n",
       "    <tr>\n",
       "      <th>147</th>\n",
       "      <td>301</td>\n",
       "      <td>335</td>\n",
       "    </tr>\n",
       "    <tr>\n",
       "      <th>148</th>\n",
       "      <td>215</td>\n",
       "      <td>0</td>\n",
       "    </tr>\n",
       "    <tr>\n",
       "      <th>149</th>\n",
       "      <td>606</td>\n",
       "      <td>521</td>\n",
       "    </tr>\n",
       "    <tr>\n",
       "      <th>150</th>\n",
       "      <td>590</td>\n",
       "      <td>225</td>\n",
       "    </tr>\n",
       "  </tbody>\n",
       "</table>\n",
       "<p>151 rows × 2 columns</p>\n",
       "</div>"
      ],
      "text/plain": [
       "      id  quantidade\n",
       "0    178          20\n",
       "1    634         121\n",
       "2    483         220\n",
       "3    476         190\n",
       "4    132          67\n",
       "..   ...         ...\n",
       "146  474         320\n",
       "147  301         335\n",
       "148  215           0\n",
       "149  606         521\n",
       "150  590         225\n",
       "\n",
       "[151 rows x 2 columns]"
      ]
     },
     "execution_count": 178,
     "metadata": {},
     "output_type": "execute_result"
    }
   ],
   "source": [
    "material_didatico_copy_2"
   ]
  },
  {
   "cell_type": "markdown",
   "metadata": {},
   "source": [
    "## Tratamento da tabela subprefeitura"
   ]
  },
  {
   "cell_type": "code",
   "execution_count": 135,
   "metadata": {},
   "outputs": [],
   "source": [
    "subprefeituras_copy_1 = subprefeituras.copy()"
   ]
  },
  {
   "cell_type": "code",
   "execution_count": 136,
   "metadata": {},
   "outputs": [],
   "source": [
    "# normalizar nomes das colunas\n",
    "cols = subprefeituras_copy_1.columns\n",
    "for col in cols:\n",
    "    subprefeituras_copy_1.rename(columns={col: unidecode(col.lower().strip())}, inplace=True)"
   ]
  },
  {
   "cell_type": "code",
   "execution_count": 137,
   "metadata": {},
   "outputs": [],
   "source": [
    "# converter letras em minúsculos e remover acentos\n",
    "subprefeituras_copy_2 = subprefeituras_copy_1.copy()\n",
    "subprefeituras_copy_2 = subprefeituras_copy_2.applymap(lambda x: unidecode(x.upper()))"
   ]
  },
  {
   "cell_type": "code",
   "execution_count": 138,
   "metadata": {},
   "outputs": [
    {
     "data": {
      "text/html": [
       "<div>\n",
       "<style scoped>\n",
       "    .dataframe tbody tr th:only-of-type {\n",
       "        vertical-align: middle;\n",
       "    }\n",
       "\n",
       "    .dataframe tbody tr th {\n",
       "        vertical-align: top;\n",
       "    }\n",
       "\n",
       "    .dataframe thead th {\n",
       "        text-align: right;\n",
       "    }\n",
       "</style>\n",
       "<table border=\"1\" class=\"dataframe\">\n",
       "  <thead>\n",
       "    <tr style=\"text-align: right;\">\n",
       "      <th></th>\n",
       "      <th>nome</th>\n",
       "      <th>subprefeitura</th>\n",
       "    </tr>\n",
       "  </thead>\n",
       "  <tbody>\n",
       "    <tr>\n",
       "      <th>0</th>\n",
       "      <td>SANTO CRISTO</td>\n",
       "      <td>CENTRO</td>\n",
       "    </tr>\n",
       "    <tr>\n",
       "      <th>1</th>\n",
       "      <td>GAMBOA</td>\n",
       "      <td>CENTRO</td>\n",
       "    </tr>\n",
       "    <tr>\n",
       "      <th>2</th>\n",
       "      <td>SAUDE</td>\n",
       "      <td>CENTRO</td>\n",
       "    </tr>\n",
       "    <tr>\n",
       "      <th>3</th>\n",
       "      <td>CAJU</td>\n",
       "      <td>CENTRO</td>\n",
       "    </tr>\n",
       "    <tr>\n",
       "      <th>4</th>\n",
       "      <td>CENTRO</td>\n",
       "      <td>CENTRO</td>\n",
       "    </tr>\n",
       "    <tr>\n",
       "      <th>...</th>\n",
       "      <td>...</td>\n",
       "      <td>...</td>\n",
       "    </tr>\n",
       "    <tr>\n",
       "      <th>159</th>\n",
       "      <td>SANTA CRUZ</td>\n",
       "      <td>ZONA OESTE</td>\n",
       "    </tr>\n",
       "    <tr>\n",
       "      <th>160</th>\n",
       "      <td>GUARATIBA</td>\n",
       "      <td>ZONA OESTE</td>\n",
       "    </tr>\n",
       "    <tr>\n",
       "      <th>161</th>\n",
       "      <td>BARRA DE GUARATIBA</td>\n",
       "      <td>ZONA OESTE</td>\n",
       "    </tr>\n",
       "    <tr>\n",
       "      <th>162</th>\n",
       "      <td>PEDRA DE GUARATIBA</td>\n",
       "      <td>ZONA OESTE</td>\n",
       "    </tr>\n",
       "    <tr>\n",
       "      <th>163</th>\n",
       "      <td>ILHA DE GUARATIBA</td>\n",
       "      <td>ZONA OESTE</td>\n",
       "    </tr>\n",
       "  </tbody>\n",
       "</table>\n",
       "<p>164 rows × 2 columns</p>\n",
       "</div>"
      ],
      "text/plain": [
       "                   nome subprefeitura\n",
       "0          SANTO CRISTO        CENTRO\n",
       "1                GAMBOA        CENTRO\n",
       "2                 SAUDE        CENTRO\n",
       "3                  CAJU        CENTRO\n",
       "4                CENTRO        CENTRO\n",
       "..                  ...           ...\n",
       "159          SANTA CRUZ    ZONA OESTE\n",
       "160           GUARATIBA    ZONA OESTE\n",
       "161  BARRA DE GUARATIBA    ZONA OESTE\n",
       "162  PEDRA DE GUARATIBA    ZONA OESTE\n",
       "163   ILHA DE GUARATIBA    ZONA OESTE\n",
       "\n",
       "[164 rows x 2 columns]"
      ]
     },
     "execution_count": 138,
     "metadata": {},
     "output_type": "execute_result"
    }
   ],
   "source": [
    "subprefeituras_copy_2"
   ]
  },
  {
   "cell_type": "markdown",
   "metadata": {},
   "source": [
    "## Tratamento da tabela escolas"
   ]
  },
  {
   "cell_type": "code",
   "execution_count": 139,
   "metadata": {},
   "outputs": [],
   "source": [
    "escolas_copy_1 = escolas.copy()"
   ]
  },
  {
   "cell_type": "code",
   "execution_count": 140,
   "metadata": {},
   "outputs": [],
   "source": [
    "# normalizar nomes das colunas\n",
    "cols = escolas_copy_1.columns\n",
    "for col in cols:\n",
    "    escolas_copy_1.rename(columns={col: unidecode(col.lower().strip())}, inplace=True)"
   ]
  },
  {
   "cell_type": "code",
   "execution_count": 141,
   "metadata": {},
   "outputs": [],
   "source": [
    "# normaliza coluna id (3 caracteres. Ex: '024')\n",
    "# Modo 1\n",
    "escolas_copy_2 = escolas_copy_1.copy()\n",
    "escolas_copy_2['id'] = escolas_copy_2['id'].apply(lambda x: str(x).zfill(3))"
   ]
  },
  {
   "cell_type": "code",
   "execution_count": 142,
   "metadata": {},
   "outputs": [],
   "source": [
    "# # Modo 2\n",
    "# escolas_copy_2_modo2 = escolas_copy_1.copy()\n",
    "# escolas_copy_2_modo2['id'] = escolas_copy_2_modo2['id'].astype(str).str.zfill(3)"
   ]
  },
  {
   "cell_type": "code",
   "execution_count": 143,
   "metadata": {},
   "outputs": [],
   "source": [
    "# Modo 1\n",
    "# normalizar coluna lat com 5 casas decimais\n",
    "escolas_copy_3 = escolas_copy_2.copy()\n",
    "for col in ['lat', 'lon']:\n",
    "    escolas_copy_3[col] = escolas_copy_3[col].str.replace(\",\", \".\").astype(float).apply(lambda x: round(x, 5))"
   ]
  },
  {
   "cell_type": "code",
   "execution_count": 144,
   "metadata": {},
   "outputs": [],
   "source": [
    "# # Modo 2\n",
    "# # normalizar coluna lat com 5 casas decimais\n",
    "# escolas_copy_3_modo2 = escolas_copy_2.copy()\n",
    "# for col in ['lat', 'lon']:\n",
    "#     escolas_copy_3_modo2[col] = escolas_copy_3_modo2[col].str.replace(\",\", \".\").astype(float).round(5)"
   ]
  },
  {
   "cell_type": "code",
   "execution_count": 145,
   "metadata": {},
   "outputs": [
    {
     "data": {
      "text/plain": [
       "Index(['id', 'escolas_postos', 'bairro', 'endereco', 'lat', 'lon'], dtype='object')"
      ]
     },
     "execution_count": 145,
     "metadata": {},
     "output_type": "execute_result"
    }
   ],
   "source": [
    "escolas_copy_4 = escolas_copy_3.copy()"
   ]
  },
  {
   "cell_type": "code",
   "execution_count": 148,
   "metadata": {},
   "outputs": [],
   "source": [
    "# normalizar colunas (remove acentos e string em maiúsculo)\n",
    "escolas_copy_4 = escolas_copy_3.copy()\n",
    "escolas_copy_4[['escolas_postos', 'bairro', 'endereco']] = escolas_copy_4[['escolas_postos', 'bairro', 'endereco']].applymap(lambda x: unidecode(x.upper()))"
   ]
  },
  {
   "cell_type": "markdown",
   "metadata": {},
   "source": [
    "#### Substituir abreviações de endereço"
   ]
  },
  {
   "cell_type": "code",
   "execution_count": 175,
   "metadata": {},
   "outputs": [],
   "source": [
    "escolas_copy_5 = escolas_copy_4.copy()"
   ]
  },
  {
   "cell_type": "code",
   "execution_count": 176,
   "metadata": {},
   "outputs": [
    {
     "data": {
      "text/plain": [
       "{'ANA',\n",
       " 'AV',\n",
       " 'AV.',\n",
       " 'DA',\n",
       " 'DAS',\n",
       " 'DE',\n",
       " 'DO',\n",
       " 'DOM',\n",
       " 'DOS',\n",
       " 'E',\n",
       " 'JR',\n",
       " 'KM',\n",
       " 'PAU',\n",
       " 'R.',\n",
       " 'RIO',\n",
       " 'RUA',\n",
       " 'S/N',\n",
       " 'SD.',\n",
       " 'UBA'}"
      ]
     },
     "execution_count": 176,
     "metadata": {},
     "output_type": "execute_result"
    }
   ],
   "source": [
    "# verificar possíveis abreviações\n",
    "abreviacoes = set()\n",
    "\n",
    "for i, linha_escola in escolas_copy_5.iterrows():\n",
    "    lista_palavra_endereco = linha_escola['endereco'].split()\n",
    "    for palavra in lista_palavra_endereco:\n",
    "        if len(palavra) <= 3 and not palavra.isdigit():\n",
    "            abreviacoes.update([palavra])\n",
    "\n",
    "abreviacoes"
   ]
  },
  {
   "cell_type": "code",
   "execution_count": 177,
   "metadata": {},
   "outputs": [
    {
     "data": {
      "text/plain": [
       "['RIO', 'RUA', 'R.', 'AV', 'AV.']"
      ]
     },
     "execution_count": 177,
     "metadata": {},
     "output_type": "execute_result"
    }
   ],
   "source": [
    "# verificar possíveis abreviações para logradouros\n",
    "filtro_abreviacoes = [abreviacao for abreviacao in abreviacoes if abreviacao.startswith('R') or abreviacao.startswith('AV')]\n",
    "filtro_abreviacoes"
   ]
  },
  {
   "cell_type": "code",
   "execution_count": 170,
   "metadata": {},
   "outputs": [
    {
     "data": {
      "text/html": [
       "<div>\n",
       "<style scoped>\n",
       "    .dataframe tbody tr th:only-of-type {\n",
       "        vertical-align: middle;\n",
       "    }\n",
       "\n",
       "    .dataframe tbody tr th {\n",
       "        vertical-align: top;\n",
       "    }\n",
       "\n",
       "    .dataframe thead th {\n",
       "        text-align: right;\n",
       "    }\n",
       "</style>\n",
       "<table border=\"1\" class=\"dataframe\">\n",
       "  <thead>\n",
       "    <tr style=\"text-align: right;\">\n",
       "      <th></th>\n",
       "      <th>id</th>\n",
       "      <th>escolas_postos</th>\n",
       "      <th>bairro</th>\n",
       "      <th>endereco</th>\n",
       "      <th>lat</th>\n",
       "      <th>lon</th>\n",
       "    </tr>\n",
       "  </thead>\n",
       "  <tbody>\n",
       "    <tr>\n",
       "      <th>0</th>\n",
       "      <td>178</td>\n",
       "      <td>CENTRO INTEGRADO DE EDUCACAO PUBLICA HENFIL</td>\n",
       "      <td>CAJU</td>\n",
       "      <td>RUA CARLOS SEIDL S/No</td>\n",
       "      <td>-22.88089</td>\n",
       "      <td>-43.22533</td>\n",
       "    </tr>\n",
       "    <tr>\n",
       "      <th>1</th>\n",
       "      <td>634</td>\n",
       "      <td>EM ALICE DO AMARAL PEIXOTO</td>\n",
       "      <td>BENFICA</td>\n",
       "      <td>RUA EBANO 187</td>\n",
       "      <td>-22.88957</td>\n",
       "      <td>-43.23620</td>\n",
       "    </tr>\n",
       "    <tr>\n",
       "      <th>2</th>\n",
       "      <td>483</td>\n",
       "      <td>EM CELESTINO SILVA</td>\n",
       "      <td>CENTRO</td>\n",
       "      <td>RUA DO LAVRADIO, 56</td>\n",
       "      <td>-22.90929</td>\n",
       "      <td>-43.18358</td>\n",
       "    </tr>\n",
       "    <tr>\n",
       "      <th>3</th>\n",
       "      <td>476</td>\n",
       "      <td>ESCOLA MUNICIPAL FLORIANO PEIXOTO</td>\n",
       "      <td>SAO CRISTOVAO</td>\n",
       "      <td>PRACA ARGENTINA 20</td>\n",
       "      <td>-22.89763</td>\n",
       "      <td>-43.22746</td>\n",
       "    </tr>\n",
       "    <tr>\n",
       "      <th>4</th>\n",
       "      <td>132</td>\n",
       "      <td>EM PEREIRA PASSOS</td>\n",
       "      <td>RIO COMPRIDO</td>\n",
       "      <td>PRACA CONDESSA PAULO DE FRONTIN 45</td>\n",
       "      <td>-22.92441</td>\n",
       "      <td>-43.20858</td>\n",
       "    </tr>\n",
       "    <tr>\n",
       "      <th>...</th>\n",
       "      <td>...</td>\n",
       "      <td>...</td>\n",
       "      <td>...</td>\n",
       "      <td>...</td>\n",
       "      <td>...</td>\n",
       "      <td>...</td>\n",
       "    </tr>\n",
       "    <tr>\n",
       "      <th>147</th>\n",
       "      <td>474</td>\n",
       "      <td>EM ENGENHEIRO GASTAO RANGEL</td>\n",
       "      <td>GUARATIBA</td>\n",
       "      <td>ESTRADA DO MAGARCA 9.183</td>\n",
       "      <td>-22.98046</td>\n",
       "      <td>-43.64355</td>\n",
       "    </tr>\n",
       "    <tr>\n",
       "      <th>148</th>\n",
       "      <td>301</td>\n",
       "      <td>EM JONATAS SERRANO</td>\n",
       "      <td>GUARATIBA</td>\n",
       "      <td>ESTRADA DO MATO ALTO, S/No</td>\n",
       "      <td>-22.95316</td>\n",
       "      <td>-43.57741</td>\n",
       "    </tr>\n",
       "    <tr>\n",
       "      <th>149</th>\n",
       "      <td>215</td>\n",
       "      <td>E.M. NARCISA AMALIA</td>\n",
       "      <td>ILHA DE GUARATIBA</td>\n",
       "      <td>ESTRADA TEODORETO DE CAMARGO S/N.o</td>\n",
       "      <td>-23.00908</td>\n",
       "      <td>-43.53758</td>\n",
       "    </tr>\n",
       "    <tr>\n",
       "      <th>150</th>\n",
       "      <td>606</td>\n",
       "      <td>EM PROFESSOR CASTILHO</td>\n",
       "      <td>ILHA DE GUARATIBA</td>\n",
       "      <td>CAMINHO DA MATRIZ 4406</td>\n",
       "      <td>-22.99412</td>\n",
       "      <td>-43.59368</td>\n",
       "    </tr>\n",
       "    <tr>\n",
       "      <th>151</th>\n",
       "      <td>069</td>\n",
       "      <td>ESCOLA MUNICIPAL CARDEAL ARCOVERDE</td>\n",
       "      <td>MADUREIRA</td>\n",
       "      <td>RUA AGOSTINHO BARBALHO 401</td>\n",
       "      <td>-22.87608</td>\n",
       "      <td>-43.34337</td>\n",
       "    </tr>\n",
       "  </tbody>\n",
       "</table>\n",
       "<p>152 rows × 6 columns</p>\n",
       "</div>"
      ],
      "text/plain": [
       "      id                               escolas_postos             bairro  \\\n",
       "0    178  CENTRO INTEGRADO DE EDUCACAO PUBLICA HENFIL               CAJU   \n",
       "1    634                   EM ALICE DO AMARAL PEIXOTO            BENFICA   \n",
       "2    483                           EM CELESTINO SILVA             CENTRO   \n",
       "3    476            ESCOLA MUNICIPAL FLORIANO PEIXOTO      SAO CRISTOVAO   \n",
       "4    132                            EM PEREIRA PASSOS       RIO COMPRIDO   \n",
       "..   ...                                          ...                ...   \n",
       "147  474                  EM ENGENHEIRO GASTAO RANGEL          GUARATIBA   \n",
       "148  301                           EM JONATAS SERRANO          GUARATIBA   \n",
       "149  215                          E.M. NARCISA AMALIA  ILHA DE GUARATIBA   \n",
       "150  606                        EM PROFESSOR CASTILHO  ILHA DE GUARATIBA   \n",
       "151  069           ESCOLA MUNICIPAL CARDEAL ARCOVERDE          MADUREIRA   \n",
       "\n",
       "                               endereco       lat       lon  \n",
       "0                 RUA CARLOS SEIDL S/No -22.88089 -43.22533  \n",
       "1                         RUA EBANO 187 -22.88957 -43.23620  \n",
       "2                   RUA DO LAVRADIO, 56 -22.90929 -43.18358  \n",
       "3                    PRACA ARGENTINA 20 -22.89763 -43.22746  \n",
       "4    PRACA CONDESSA PAULO DE FRONTIN 45 -22.92441 -43.20858  \n",
       "..                                  ...       ...       ...  \n",
       "147            ESTRADA DO MAGARCA 9.183 -22.98046 -43.64355  \n",
       "148          ESTRADA DO MATO ALTO, S/No -22.95316 -43.57741  \n",
       "149  ESTRADA TEODORETO DE CAMARGO S/N.o -23.00908 -43.53758  \n",
       "150              CAMINHO DA MATRIZ 4406 -22.99412 -43.59368  \n",
       "151          RUA AGOSTINHO BARBALHO 401 -22.87608 -43.34337  \n",
       "\n",
       "[152 rows x 6 columns]"
      ]
     },
     "execution_count": 170,
     "metadata": {},
     "output_type": "execute_result"
    }
   ],
   "source": [
    "# normalizar coluna endereco (substituir abreviações de logradouro)\n",
    "escolas_copy_5 = escolas_copy_4.copy()\n",
    "escolas_copy_5['endereco'] = escolas_copy_5['endereco'].str.replace('R. ', 'RUA ', regex=True).replace('AV. ', 'AVENIDA ', regex=True).replace('AV ', 'AVENIDA ', regex=True)\n",
    "escolas_copy_5"
   ]
  },
  {
   "cell_type": "code",
   "execution_count": 174,
   "metadata": {},
   "outputs": [],
   "source": [
    "# valida normalização de abreviações do campo endereco\n",
    "for i, linha_escola_2 in escolas_copy_5.iterrows():\n",
    "    if linha_escola_2['endereco'].startswith('R. ')  or \\\n",
    "       linha_escola_2['endereco'].startswith('AV. ') or \\\n",
    "       linha_escola_2['endereco'].startswith('AV '):\n",
    "        print(linha_escola_2)"
   ]
  },
  {
   "cell_type": "markdown",
   "metadata": {},
   "source": [
    "## Faltam os seguintes tratamentos:\n",
    "\n",
    "- adicionar vírgula para o número do endereço\n",
    "- separar logradouro e número do endereço"
   ]
  }
 ],
 "metadata": {
  "kernelspec": {
   "display_name": "Python 3",
   "language": "python",
   "name": "python3"
  },
  "language_info": {
   "codemirror_mode": {
    "name": "ipython",
    "version": 3
   },
   "file_extension": ".py",
   "mimetype": "text/x-python",
   "name": "python",
   "nbconvert_exporter": "python",
   "pygments_lexer": "ipython3",
   "version": "3.10.12"
  },
  "orig_nbformat": 4
 },
 "nbformat": 4,
 "nbformat_minor": 2
}
